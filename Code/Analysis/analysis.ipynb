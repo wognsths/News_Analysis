{
 "cells": [
  {
   "cell_type": "code",
   "execution_count": 60,
   "metadata": {},
   "outputs": [],
   "source": [
    "from datetime import datetime\n",
    "from utils import *\n",
    "import json\n",
    "import os\n",
    "\n",
    "file_dir = os.path.join(os.curdir, \"../../Data/Embedding/Divided\")"
   ]
  },
  {
   "cell_type": "code",
   "execution_count": null,
   "metadata": {},
   "outputs": [
    {
     "name": "stdout",
     "output_type": "stream",
     "text": [
      "20221208\n",
      "005930_2022_processed_embedded_Q4.json\n"
     ]
    }
   ],
   "source": [
    "# Search Date YYYYMMDD\n",
    "Date = input()\n",
    "print(Date)\n",
    "year = Date[:4]\n",
    "Q = f\"Q{int(Date[4:6]) // 4 + 1}\"\n",
    "for file in os.listdir(file_dir):\n",
    "    if Q in file and year in file:\n",
    "        print(file)\n",
    "        with open(os.path.join(os.curdir, \"../../Data/Embedding/Divided\",file), mode=\"r\") as f:\n",
    "            data = json.load(f)\n",
    "        break\n",
    "link_list = []\n",
    "vector_arr = []\n",
    "\n",
    "for embedding in data:\n",
    "    if Date in embedding[\"ID\"][:8]:\n",
    "        link_list.append(embedding[\"Link\"])\n",
    "        vector_arr.append(embedding[\"embedding\"])"
   ]
  },
  {
   "cell_type": "code",
   "execution_count": 62,
   "metadata": {},
   "outputs": [
    {
     "name": "stdout",
     "output_type": "stream",
     "text": [
      "https://n.news.naver.com/mnews/article/001/0013631845?sid=105\n",
      "https://n.news.naver.com/mnews/article/011/0004131098?sid=101\n",
      "https://n.news.naver.com/mnews/article/014/0004939687?sid=101\n",
      "https://n.news.naver.com/mnews/article/015/0004785242?sid=101\n",
      "https://n.news.naver.com/mnews/article/016/0002075839?sid=101\n",
      "https://n.news.naver.com/mnews/article/056/0011389144?sid=101\n",
      "https://n.news.naver.com/mnews/article/277/0005189159?sid=101\n",
      "https://n.news.naver.com/mnews/article/277/0005189166?sid=101\n",
      "https://n.news.naver.com/mnews/article/366/0000860913?sid=105\n",
      "[[1.    0.456 0.658 0.495 0.478 0.331 0.351 0.564 0.361]\n",
      " [0.456 1.    0.594 0.65  0.588 0.442 0.503 0.558 0.395]\n",
      " [0.658 0.594 1.    0.588 0.53  0.402 0.44  0.557 0.403]\n",
      " [0.495 0.65  0.588 1.    0.567 0.471 0.486 0.545 0.552]\n",
      " [0.478 0.588 0.53  0.567 1.    0.421 0.458 0.526 0.385]\n",
      " [0.331 0.442 0.402 0.471 0.421 1.    0.498 0.49  0.462]\n",
      " [0.351 0.503 0.44  0.486 0.458 0.498 1.    0.529 0.366]\n",
      " [0.564 0.558 0.557 0.545 0.526 0.49  0.529 1.    0.542]\n",
      " [0.361 0.395 0.403 0.552 0.385 0.462 0.366 0.542 1.   ]]\n"
     ]
    }
   ],
   "source": [
    "for link in link_list:\n",
    "    print(link)\n",
    "\n",
    "m = cos_sim_matrix(np.array(vector_arr), 3)\n",
    "print(m)"
   ]
  },
  {
   "cell_type": "code",
   "execution_count": 63,
   "metadata": {},
   "outputs": [
    {
     "data": {
      "text/plain": [
       "array([[1, 0, 0, 0, 0, 0, 0, 0, 0],\n",
       "       [0, 1, 0, 0, 0, 0, 0, 0, 0],\n",
       "       [0, 0, 1, 0, 0, 0, 0, 0, 0],\n",
       "       [0, 0, 0, 1, 0, 0, 0, 0, 0],\n",
       "       [0, 0, 0, 0, 1, 0, 0, 0, 0],\n",
       "       [0, 0, 0, 0, 0, 1, 0, 0, 0],\n",
       "       [0, 0, 0, 0, 0, 0, 1, 0, 0],\n",
       "       [0, 0, 0, 0, 0, 0, 0, 1, 0],\n",
       "       [0, 0, 0, 0, 0, 0, 0, 0, 1]])"
      ]
     },
     "execution_count": 63,
     "metadata": {},
     "output_type": "execute_result"
    }
   ],
   "source": [
    "(m > 0.8) * 1"
   ]
  },
  {
   "cell_type": "markdown",
   "metadata": {},
   "source": [
    "데이터에 대한 클러스터를 하려고 하는건데\n",
    "너무 어려운 문제가 많다\n",
    "\n",
    "주제어 골라오는 문제들\n",
    "그거를 중복으로 골라내는 문제\n",
    "필터링을 해보자 ~~"
   ]
  }
 ],
 "metadata": {
  "kernelspec": {
   "display_name": "base",
   "language": "python",
   "name": "python3"
  },
  "language_info": {
   "codemirror_mode": {
    "name": "ipython",
    "version": 3
   },
   "file_extension": ".py",
   "mimetype": "text/x-python",
   "name": "python",
   "nbconvert_exporter": "python",
   "pygments_lexer": "ipython3",
   "version": "3.11.9"
  }
 },
 "nbformat": 4,
 "nbformat_minor": 2
}
