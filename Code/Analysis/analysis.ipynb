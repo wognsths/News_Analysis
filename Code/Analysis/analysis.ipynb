{
 "cells": [
  {
   "cell_type": "code",
   "execution_count": 7,
   "metadata": {},
   "outputs": [],
   "source": [
    "from datetime import datetime\n",
    "from utils import *\n",
    "import json\n",
    "import os\n",
    "\n",
    "file_dir = os.path.join(os.curdir, \"../../Data/Embedding/Divided\")"
   ]
  },
  {
   "cell_type": "code",
   "execution_count": null,
   "metadata": {},
   "outputs": [],
   "source": [
    "Date = input()\n",
    "print(Date)"
   ]
  },
  {
   "cell_type": "code",
   "execution_count": 9,
   "metadata": {},
   "outputs": [
    {
     "name": "stdout",
     "output_type": "stream",
     "text": [
      "005930_2020_processed_embedded_Q1.json\n"
     ]
    }
   ],
   "source": [
    "# Search Date YYYYMMDD\n",
    "year = Date[:4]\n",
    "Q = f\"Q{int(Date[4:6]) // 4 + 1}\"\n",
    "for file in os.listdir(file_dir):\n",
    "    if Q in file and year in file:\n",
    "        print(file)\n",
    "        with open(os.path.join(os.curdir, \"../../Data/Embedding/Divided\",file), mode=\"r\") as f:\n",
    "            data = json.load(f)\n",
    "        break\n",
    "link_list = []\n",
    "vector_arr = []\n",
    "\n",
    "for embedding in data:\n",
    "    if Date in embedding[\"ID\"]:\n",
    "        link_list.append(embedding[\"Link\"])\n",
    "        vector_arr.append(embedding[\"embedding\"])"
   ]
  },
  {
   "cell_type": "code",
   "execution_count": null,
   "metadata": {},
   "outputs": [],
   "source": [
    "for link in link_list:\n",
    "    print(link)\n",
    "\n",
    "m = cos_sim_matrix(np.array(vector_arr), 3)\n",
    "print(m)"
   ]
  }
 ],
 "metadata": {
  "kernelspec": {
   "display_name": "base",
   "language": "python",
   "name": "python3"
  },
  "language_info": {
   "codemirror_mode": {
    "name": "ipython",
    "version": 3
   },
   "file_extension": ".py",
   "mimetype": "text/x-python",
   "name": "python",
   "nbconvert_exporter": "python",
   "pygments_lexer": "ipython3",
   "version": "3.11.9"
  }
 },
 "nbformat": 4,
 "nbformat_minor": 2
}
